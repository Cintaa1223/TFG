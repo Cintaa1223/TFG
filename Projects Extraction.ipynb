{
 "cells": [
  {
   "cell_type": "code",
   "execution_count": 48,
   "id": "150ddc60",
   "metadata": {},
   "outputs": [],
   "source": [
    "import requests\n",
    "from bs4 import BeautifulSoup\n",
    "import json\n",
    "import pandas as pd\n",
    "\n",
    "url = \"https://www.scientificamerican.com/citizen-science/\"\n",
    "\n",
    "# Agregar encabezados a la solicitud\n",
    "headers = {\n",
    "    'User-Agent': 'Mozilla/5.0 (Windows NT 10.0; Win64; x64) AppleWebKit/537.36 (KHTML, like Gecko) Chrome/58.0.3029.110 Safari/537.36'}\n",
    "\n",
    "projects = []\n",
    "\n",
    "# Hemos visto que hay 10 páginas de proyectos: loop para acceder a las 10 págs.\n",
    "for i in range(1, 11):\n",
    "    page_url = url + \"?page=\" + str(i)\n",
    "    # Realizar la petición a la página web con los encabezados\n",
    "    response = requests.get(page_url, headers=headers)\n",
    "\n",
    "    soup = BeautifulSoup(response.content, \"html.parser\")\n",
    "    \n",
    "    # extract data here\n",
    "    project_titles = soup.find_all('span', {'class': 'underline'})\n",
    "    project_titles2 = [title.text for title in project_titles]\n",
    "    projects.extend(project_titles2)"
   ]
  },
  {
   "cell_type": "code",
   "execution_count": 49,
   "id": "1c406afa",
   "metadata": {},
   "outputs": [],
   "source": [
    "# Imprimir el código HTML de la página\n",
    "# print(soup.prettify())"
   ]
  },
  {
   "cell_type": "code",
   "execution_count": 50,
   "id": "263b72c7",
   "metadata": {},
   "outputs": [
    {
     "name": "stdout",
     "output_type": "stream",
     "text": [
      "['Caribbean Storms 2017', 'Zooniverse: Wildwatch Kenya', 'The Plastic Tide', 'Citizen Endo', 'Small World of Words', 'Sensory Info and Romantic Relationships', 'IDAHO2O Master Water Stewards', 'Shelter Dog \"Rehoming\" Study Wants Your Help', 'Help Stop TB', 'Zooniverse: Jungle Rhythms', 'Wisconsin Wildlife Watch', 'Smorball', \"Zooniverse: Shakespeare's World\", \"Darwin's Dogs\", 'Humpback Tails Wanted', 'The Online Wisdom Lab (OWL)', 'Send Us Your Skeletons [Australia]', 'Science Gossip [Zooniverse]', 'Animal Ownership Interaction Study', 'Track a Tree [U.K.]', 'Virginia Key Restoration', 'Connecticut Turtle Atlas', 'Michigan Herp Atlas', 'Zooniverse: Season Spotter', 'Wildbook for Whale Sharks', 'GeoTag-X', 'Did You See It?', 'Fairbanks Community of Observers', 'NYC Cyclist Air Quality Study', 'DARPA Verigames Crowdsourced Formal Verification (CSFV) project', 'Plants of Concern', 'NOVA Evolution Lab', 'Sudden Oak Death (SOD) Blitz', 'Zooniverse: Planet 4', 'Zooniverse: Orchid Observers [U.K.]', 'MicroBlitz [Western Australia]', 'Go Viral', 'Citizen Science Soil Collection Program', 'Asteroid Data Hunter', 'Migratory Dragonfly Partnership', 'Zooniverse: Science Gossip', 'Reverse the Odds', 'Nanocrafter', 'Play to Cure: Genes in Space', 'Weather-IT', 'Mitten Crab Watch', 'Ignore That!', 'Canid Howl Project', 'Fatty Acids: The 6th Taste? (Denver, Colo.)', 'Lost at Night', 'Marine Metre Squared', 'Zooniverse: Asteroid Zoo', 'Radio JOVE', 'Zooniverse: Penguin Watch', 'Dear Professor Einstein', 'Zooniverse: Floating Forests', 'The Seabird Ecological Assessment Network (SEANET)', 'NOVA Cybersecurity Lab', 'SharkFinder', 'NOVA RNA VirtuaLab', 'Wildlife Tracker', 'LifeScanner', 'New England Basking Shark and Ocean Sunfish Project', 'Beach Environmental Assessment, Communication and Health (BEACH) Program', 'Globe at Night 2014', 'Zooniverse: Operation War Diary', 'National Moth Week 2014', 'iCoast: Did the Coast Change?', 'Zooniverse: Sunspotter', 'New York Horseshoe Monitoring Network', 'iSeahorse', 'Update: EyeWire', 'Ocean Sampling Day (OSD)', 'Zooniverse: Cyclone Center', 'Nerds for Nature: Mt. Diablo Morgan Fire', 'MySwan (Australia)', \"Where's the Elderberry Longhorn Beetle?\", 'Mountain Watch', 'Zooniverse Condor Watch', 'iSeeChange', 'SatCam', 'Clock Your Sleep', 'Air Visibility Monitoring', 'Happy Match', 'EteRNA', 'Forgotten Island', 'Marine Animal Identification Network (MAIN)', 'The Smell Experience Project', 'How Radioactive Is Our Ocean?', 'Zooniverse: Project Star Date M83', 'NOVA Cloud Lab', 'NOVA Energy Lab', 'Astro Drone Crowdsourcing Game', 'Weddell Seal Population Count', 'Flusurvey', 'The Snowtweets Project', 'SENSR', 'Poo Power!', \"What's Invasive!\", 'NoiseTube', 'Kinsey Reporter', 'Loss of the Night', 'Dark Sky Meter', 'Spiders in Your World', 'AgeGuess', 'NanoDoc', 'Treezilla', 'Zooniverse: Plankton Portal', 'Creek Watch', 'World Water Monitoring Challenge', 'The School of Ants', 'The Great Eggcase Hunt Project', 'National Cockroach Project', 'Shark Savers SharksCount', 'The VerbCorner Project', 'BioTrails', 'Secchi Marine Phytoplankton App', 'Zooniverse: Worm Watch Lab', 'NOVA Sun Lab', 'Coastal Observation and Seabird Survey Team (COASST)', 'Aurorasaurus', 'Ventus Project', 'Digital Fishers', 'Space Warps [Zooniverse]', 'Marine Debris Tracker', 'Zooniverse: Notes from Nature', 'Precipitation Identification Near the Ground (PING)', 'BioCurious DIY BioPrinter', 'Roadkill Survey for Road Bikers', 'Space Hacker Workshop', 'FrogWatch Canada', 'Project MERCCURI', 'Cicada Tracker', 'Hummingbirds @ Home', 'SubseaObservers', 'Snowtweets', 'IceWatch USA', 'Zooniverse: Snapshot Serengeti', 'RinkWatch', 'Louisiana Bucket Brigade (LABB)', 'National Geographic Genographic 2.0', 'Play with Your Dog', 'American Gut', 'uBiome', 'Ruffed Grouse Drumming Survey', 'Bat Detective', 'TrafficTurk', 'Citizen Sort', 'Citizens in Space', 'Zooniverse Seafloor Explorer', 'Zooniverse CycloneCenter', 'The Baby Laughter Project', 'Geo-Wiki Project', 'SKYWARN', 'Evolution Megalab', 'Canadian Lakes Loon Survey (CLLS)', 'iSpot', \"Students' Cloud Observations Online (S'COOL)\", 'The YardMap Network', '\"Tag A Tiny\" Tuna Fishing Program', 'ZomBee Watch', 'Update: The Quake-Catcher Network', 'National Moth Week July 2012', 'Ancient Lives', 'Panamath', \"Turing's Sunflowers\", 'Killer Whale Tracker', 'Lowell Amateur Research Initiative (LARI)', 'Transit of Venus', 'Native Buzz', 'WildObs', 'North American Bird Phenology Program', 'The UVA Bay Game', 'Wildlife Health Event Reporter', \"Update: Nature's Notebook\", 'Update: Old Weather and Naval History', 'Solar-Storm Watch', 'World Water Monitoring Challenge', 'Camel Cricket Census', 'U.S. Environmental Protection Agency Citizen Science Grants (NYC)', 'MyHeartMap Challenge', 'Monarch Larva Monitoring Project', 'Project FeederWatch', 'Wildlife Sightings', 'Eyewire', 'Meteor Counter', 'Did You Feel It?', 'Pigeon Watch', 'Bee Hunt!', 'Invaders of Texas', 'Phylo', 'Christmas Bird Count', 'Health Tracking Network [Project Closed to New Participants]', 'The Whale Song Project (Whale FM)', 'GO Fight against Malaria', 'Nearby Nature GigaBlitz #2', 'SOHO Comet Hunting', 'NASA Balloon Flight Experiment', 'The Wildlife of Your Home Project', 'Gravestone Project']\n"
     ]
    }
   ],
   "source": [
    "print(projects)"
   ]
  },
  {
   "cell_type": "code",
   "execution_count": 54,
   "id": "e90374c0",
   "metadata": {},
   "outputs": [],
   "source": [
    "# Create an empty DataFrame with specified columns\n",
    "df = pd.DataFrame(columns=['Project Name', 'Project Link', 'Objective', 'Last Updated', 'Principal Scientist',\n",
    "                           'Scientist Affiliation', 'Dates', 'Project Type', 'Cost', 'Grade Level',\n",
    "                           'Time Commitment', 'How To Join', 'Description', 'Citizen Science Web Name',\n",
    "                           'Citizen Science Web Link'])"
   ]
  },
  {
   "cell_type": "code",
   "execution_count": 57,
   "id": "2af666cc",
   "metadata": {},
   "outputs": [],
   "source": [
    "# Create a dictionary with the values for the new row\n",
    "new_row = {\n",
    "    'Project Name': 'Example Project',\n",
    "    'Project Link': 'https://example.com',\n",
    "    'Objective': 'Example Objective',\n",
    "    'Last Updated': '2023-05-15',\n",
    "    'Principal Scientist': 'John Doe',\n",
    "    'Scientist Affiliation': 'Example University',\n",
    "    'Dates': '2023-05-15',\n",
    "    'Project Type': 'Example Type',\n",
    "    'Cost': 100,\n",
    "    'Grade Level': 'High School',\n",
    "    'Time Commitment': '2 hours per week',\n",
    "    'How To Join': 'Example Joining Instructions',\n",
    "    'Description': 'Example Description',\n",
    "    'Citizen Science Web Name': 'Example Web Name',\n",
    "    'Citizen Science Web Link': 'https://example.com/citizen-science'\n",
    "}\n",
    "\n",
    "# Add the new row to the DataFrame using the loc indexer\n",
    "df.loc[len(df)] = new_row"
   ]
  },
  {
   "cell_type": "code",
   "execution_count": 58,
   "id": "462f1ef3",
   "metadata": {},
   "outputs": [
    {
     "data": {
      "text/html": [
       "<div>\n",
       "<style scoped>\n",
       "    .dataframe tbody tr th:only-of-type {\n",
       "        vertical-align: middle;\n",
       "    }\n",
       "\n",
       "    .dataframe tbody tr th {\n",
       "        vertical-align: top;\n",
       "    }\n",
       "\n",
       "    .dataframe thead th {\n",
       "        text-align: right;\n",
       "    }\n",
       "</style>\n",
       "<table border=\"1\" class=\"dataframe\">\n",
       "  <thead>\n",
       "    <tr style=\"text-align: right;\">\n",
       "      <th></th>\n",
       "      <th>Project Name</th>\n",
       "      <th>Project Link</th>\n",
       "      <th>Objective</th>\n",
       "      <th>Last Updated</th>\n",
       "      <th>Principal Scientist</th>\n",
       "      <th>Scientist Affiliation</th>\n",
       "      <th>Dates</th>\n",
       "      <th>Project Type</th>\n",
       "      <th>Cost</th>\n",
       "      <th>Grade Level</th>\n",
       "      <th>Time Commitment</th>\n",
       "      <th>How To Join</th>\n",
       "      <th>Description</th>\n",
       "      <th>Citizen Science Web Name</th>\n",
       "      <th>Citizen Science Web Link</th>\n",
       "    </tr>\n",
       "  </thead>\n",
       "  <tbody>\n",
       "    <tr>\n",
       "      <th>0</th>\n",
       "      <td>Example Project</td>\n",
       "      <td>https://example.com</td>\n",
       "      <td>Example Objective</td>\n",
       "      <td>2023-05-15</td>\n",
       "      <td>John Doe</td>\n",
       "      <td>Example University</td>\n",
       "      <td>2023-05-15</td>\n",
       "      <td>Example Type</td>\n",
       "      <td>100</td>\n",
       "      <td>High School</td>\n",
       "      <td>2 hours per week</td>\n",
       "      <td>Example Joining Instructions</td>\n",
       "      <td>Example Description</td>\n",
       "      <td>Example Web Name</td>\n",
       "      <td>https://example.com/citizen-science</td>\n",
       "    </tr>\n",
       "  </tbody>\n",
       "</table>\n",
       "</div>"
      ],
      "text/plain": [
       "      Project Name         Project Link          Objective Last Updated   \n",
       "0  Example Project  https://example.com  Example Objective   2023-05-15  \\\n",
       "\n",
       "  Principal Scientist Scientist Affiliation       Dates  Project Type  Cost   \n",
       "0            John Doe    Example University  2023-05-15  Example Type   100  \\\n",
       "\n",
       "   Grade Level   Time Commitment                   How To Join   \n",
       "0  High School  2 hours per week  Example Joining Instructions  \\\n",
       "\n",
       "           Description Citizen Science Web Name   \n",
       "0  Example Description         Example Web Name  \\\n",
       "\n",
       "              Citizen Science Web Link  \n",
       "0  https://example.com/citizen-science  "
      ]
     },
     "execution_count": 58,
     "metadata": {},
     "output_type": "execute_result"
    }
   ],
   "source": [
    "df"
   ]
  },
  {
   "cell_type": "code",
   "execution_count": null,
   "id": "fd7b3754",
   "metadata": {},
   "outputs": [],
   "source": []
  }
 ],
 "metadata": {
  "kernelspec": {
   "display_name": "Python 3 (ipykernel)",
   "language": "python",
   "name": "python3"
  },
  "language_info": {
   "codemirror_mode": {
    "name": "ipython",
    "version": 3
   },
   "file_extension": ".py",
   "mimetype": "text/x-python",
   "name": "python",
   "nbconvert_exporter": "python",
   "pygments_lexer": "ipython3",
   "version": "3.9.13"
  }
 },
 "nbformat": 4,
 "nbformat_minor": 5
}
